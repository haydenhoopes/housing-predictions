{
 "cells": [
  {
   "cell_type": "markdown",
   "id": "3204623c-1ea1-49a7-a784-f568bc4a338f",
   "metadata": {},
   "source": [
    "# Regression Analysis on Housing Data"
   ]
  },
  {
   "cell_type": "markdown",
   "id": "c6c9485b-a2bb-4d5a-bbc3-4eb6e7a27fe3",
   "metadata": {},
   "source": [
    "Import the required libraries and data"
   ]
  },
  {
   "cell_type": "code",
   "execution_count": 1,
   "id": "578664fe-3a1c-4b11-8c5e-054d25d0858a",
   "metadata": {},
   "outputs": [],
   "source": [
    "import numpy as np\n",
    "import pandas as pd\n",
    "import matplotlib.pyplot as plt\n",
    "import seaborn as sns\n",
    "# %matplotlib widget\n",
    "from mpl_toolkits.mplot3d import Axes3D\n",
    "pd.options.display.max_columns = None"
   ]
  },
  {
   "cell_type": "code",
   "execution_count": 2,
   "id": "74e4532b-014a-45ec-aef9-289a2792d56b",
   "metadata": {},
   "outputs": [],
   "source": [
    "df = pd.read_csv('melbourne_housing.csv')"
   ]
  },
  {
   "cell_type": "code",
   "execution_count": 3,
   "id": "eee6136e-c1ab-49f9-9b6e-3723d143c3ec",
   "metadata": {},
   "outputs": [
    {
     "data": {
      "text/html": [
       "<div>\n",
       "<style scoped>\n",
       "    .dataframe tbody tr th:only-of-type {\n",
       "        vertical-align: middle;\n",
       "    }\n",
       "\n",
       "    .dataframe tbody tr th {\n",
       "        vertical-align: top;\n",
       "    }\n",
       "\n",
       "    .dataframe thead th {\n",
       "        text-align: right;\n",
       "    }\n",
       "</style>\n",
       "<table border=\"1\" class=\"dataframe\">\n",
       "  <thead>\n",
       "    <tr style=\"text-align: right;\">\n",
       "      <th></th>\n",
       "      <th>Suburb</th>\n",
       "      <th>Address</th>\n",
       "      <th>Rooms</th>\n",
       "      <th>Type</th>\n",
       "      <th>Price</th>\n",
       "      <th>Method</th>\n",
       "      <th>SellerG</th>\n",
       "      <th>Date</th>\n",
       "      <th>Distance</th>\n",
       "      <th>Postcode</th>\n",
       "      <th>Bedroom2</th>\n",
       "      <th>Bathroom</th>\n",
       "      <th>Car</th>\n",
       "      <th>Landsize</th>\n",
       "      <th>BuildingArea</th>\n",
       "      <th>YearBuilt</th>\n",
       "      <th>CouncilArea</th>\n",
       "      <th>Lattitude</th>\n",
       "      <th>Longtitude</th>\n",
       "      <th>Regionname</th>\n",
       "      <th>Propertycount</th>\n",
       "    </tr>\n",
       "  </thead>\n",
       "  <tbody>\n",
       "    <tr>\n",
       "      <th>0</th>\n",
       "      <td>Abbotsford</td>\n",
       "      <td>85 Turner St</td>\n",
       "      <td>2</td>\n",
       "      <td>h</td>\n",
       "      <td>1480000</td>\n",
       "      <td>S</td>\n",
       "      <td>Biggin</td>\n",
       "      <td>3/12/2016</td>\n",
       "      <td>2.5</td>\n",
       "      <td>3067</td>\n",
       "      <td>2</td>\n",
       "      <td>1</td>\n",
       "      <td>1.0</td>\n",
       "      <td>202</td>\n",
       "      <td>NaN</td>\n",
       "      <td>NaN</td>\n",
       "      <td>Yarra</td>\n",
       "      <td>-37.7996</td>\n",
       "      <td>144.9984</td>\n",
       "      <td>Northern Metropolitan</td>\n",
       "      <td>4019</td>\n",
       "    </tr>\n",
       "    <tr>\n",
       "      <th>1</th>\n",
       "      <td>Abbotsford</td>\n",
       "      <td>25 Bloomburg St</td>\n",
       "      <td>2</td>\n",
       "      <td>h</td>\n",
       "      <td>1035000</td>\n",
       "      <td>S</td>\n",
       "      <td>Biggin</td>\n",
       "      <td>4/2/2016</td>\n",
       "      <td>2.5</td>\n",
       "      <td>3067</td>\n",
       "      <td>2</td>\n",
       "      <td>1</td>\n",
       "      <td>0.0</td>\n",
       "      <td>156</td>\n",
       "      <td>79.0</td>\n",
       "      <td>1900.0</td>\n",
       "      <td>Yarra</td>\n",
       "      <td>-37.8079</td>\n",
       "      <td>144.9934</td>\n",
       "      <td>Northern Metropolitan</td>\n",
       "      <td>4019</td>\n",
       "    </tr>\n",
       "    <tr>\n",
       "      <th>2</th>\n",
       "      <td>Abbotsford</td>\n",
       "      <td>5 Charles St</td>\n",
       "      <td>3</td>\n",
       "      <td>h</td>\n",
       "      <td>1465000</td>\n",
       "      <td>SP</td>\n",
       "      <td>Biggin</td>\n",
       "      <td>4/3/2017</td>\n",
       "      <td>2.5</td>\n",
       "      <td>3067</td>\n",
       "      <td>3</td>\n",
       "      <td>2</td>\n",
       "      <td>0.0</td>\n",
       "      <td>134</td>\n",
       "      <td>150.0</td>\n",
       "      <td>1900.0</td>\n",
       "      <td>Yarra</td>\n",
       "      <td>-37.8093</td>\n",
       "      <td>144.9944</td>\n",
       "      <td>Northern Metropolitan</td>\n",
       "      <td>4019</td>\n",
       "    </tr>\n",
       "    <tr>\n",
       "      <th>3</th>\n",
       "      <td>Abbotsford</td>\n",
       "      <td>40 Federation La</td>\n",
       "      <td>3</td>\n",
       "      <td>h</td>\n",
       "      <td>850000</td>\n",
       "      <td>PI</td>\n",
       "      <td>Biggin</td>\n",
       "      <td>4/3/2017</td>\n",
       "      <td>2.5</td>\n",
       "      <td>3067</td>\n",
       "      <td>3</td>\n",
       "      <td>2</td>\n",
       "      <td>1.0</td>\n",
       "      <td>94</td>\n",
       "      <td>NaN</td>\n",
       "      <td>NaN</td>\n",
       "      <td>Yarra</td>\n",
       "      <td>-37.7969</td>\n",
       "      <td>144.9969</td>\n",
       "      <td>Northern Metropolitan</td>\n",
       "      <td>4019</td>\n",
       "    </tr>\n",
       "    <tr>\n",
       "      <th>4</th>\n",
       "      <td>Abbotsford</td>\n",
       "      <td>55a Park St</td>\n",
       "      <td>4</td>\n",
       "      <td>h</td>\n",
       "      <td>1600000</td>\n",
       "      <td>VB</td>\n",
       "      <td>Nelson</td>\n",
       "      <td>4/6/2016</td>\n",
       "      <td>2.5</td>\n",
       "      <td>3067</td>\n",
       "      <td>3</td>\n",
       "      <td>1</td>\n",
       "      <td>2.0</td>\n",
       "      <td>120</td>\n",
       "      <td>142.0</td>\n",
       "      <td>2014.0</td>\n",
       "      <td>Yarra</td>\n",
       "      <td>-37.8072</td>\n",
       "      <td>144.9941</td>\n",
       "      <td>Northern Metropolitan</td>\n",
       "      <td>4019</td>\n",
       "    </tr>\n",
       "  </tbody>\n",
       "</table>\n",
       "</div>"
      ],
      "text/plain": [
       "       Suburb           Address  Rooms Type    Price Method SellerG  \\\n",
       "0  Abbotsford      85 Turner St      2    h  1480000      S  Biggin   \n",
       "1  Abbotsford   25 Bloomburg St      2    h  1035000      S  Biggin   \n",
       "2  Abbotsford      5 Charles St      3    h  1465000     SP  Biggin   \n",
       "3  Abbotsford  40 Federation La      3    h   850000     PI  Biggin   \n",
       "4  Abbotsford       55a Park St      4    h  1600000     VB  Nelson   \n",
       "\n",
       "        Date  Distance  Postcode  Bedroom2  Bathroom  Car  Landsize  \\\n",
       "0  3/12/2016       2.5      3067         2         1  1.0       202   \n",
       "1   4/2/2016       2.5      3067         2         1  0.0       156   \n",
       "2   4/3/2017       2.5      3067         3         2  0.0       134   \n",
       "3   4/3/2017       2.5      3067         3         2  1.0        94   \n",
       "4   4/6/2016       2.5      3067         3         1  2.0       120   \n",
       "\n",
       "   BuildingArea  YearBuilt CouncilArea  Lattitude  Longtitude  \\\n",
       "0           NaN        NaN       Yarra   -37.7996    144.9984   \n",
       "1          79.0     1900.0       Yarra   -37.8079    144.9934   \n",
       "2         150.0     1900.0       Yarra   -37.8093    144.9944   \n",
       "3           NaN        NaN       Yarra   -37.7969    144.9969   \n",
       "4         142.0     2014.0       Yarra   -37.8072    144.9941   \n",
       "\n",
       "              Regionname  Propertycount  \n",
       "0  Northern Metropolitan           4019  \n",
       "1  Northern Metropolitan           4019  \n",
       "2  Northern Metropolitan           4019  \n",
       "3  Northern Metropolitan           4019  \n",
       "4  Northern Metropolitan           4019  "
      ]
     },
     "execution_count": 3,
     "metadata": {},
     "output_type": "execute_result"
    }
   ],
   "source": [
    "df.head()"
   ]
  },
  {
   "cell_type": "code",
   "execution_count": 4,
   "id": "ad6a218f-4472-40e8-9446-5062f0a51a0e",
   "metadata": {},
   "outputs": [
    {
     "data": {
      "text/html": [
       "<div>\n",
       "<style scoped>\n",
       "    .dataframe tbody tr th:only-of-type {\n",
       "        vertical-align: middle;\n",
       "    }\n",
       "\n",
       "    .dataframe tbody tr th {\n",
       "        vertical-align: top;\n",
       "    }\n",
       "\n",
       "    .dataframe thead th {\n",
       "        text-align: right;\n",
       "    }\n",
       "</style>\n",
       "<table border=\"1\" class=\"dataframe\">\n",
       "  <thead>\n",
       "    <tr style=\"text-align: right;\">\n",
       "      <th></th>\n",
       "      <th>Rooms</th>\n",
       "      <th>Price</th>\n",
       "      <th>Distance</th>\n",
       "      <th>Postcode</th>\n",
       "      <th>Bedroom2</th>\n",
       "      <th>Bathroom</th>\n",
       "      <th>Car</th>\n",
       "      <th>Landsize</th>\n",
       "      <th>BuildingArea</th>\n",
       "      <th>YearBuilt</th>\n",
       "      <th>Lattitude</th>\n",
       "      <th>Longtitude</th>\n",
       "      <th>Propertycount</th>\n",
       "    </tr>\n",
       "  </thead>\n",
       "  <tbody>\n",
       "    <tr>\n",
       "      <th>count</th>\n",
       "      <td>13579.000000</td>\n",
       "      <td>1.357900e+04</td>\n",
       "      <td>13579.000000</td>\n",
       "      <td>13579.000000</td>\n",
       "      <td>13579.000000</td>\n",
       "      <td>13579.000000</td>\n",
       "      <td>13517.000000</td>\n",
       "      <td>13579.000000</td>\n",
       "      <td>7129.000000</td>\n",
       "      <td>8204.000000</td>\n",
       "      <td>13579.000000</td>\n",
       "      <td>13579.000000</td>\n",
       "      <td>13579.000000</td>\n",
       "    </tr>\n",
       "    <tr>\n",
       "      <th>mean</th>\n",
       "      <td>2.937992</td>\n",
       "      <td>1.075675e+06</td>\n",
       "      <td>10.137477</td>\n",
       "      <td>3105.298697</td>\n",
       "      <td>2.914721</td>\n",
       "      <td>1.534281</td>\n",
       "      <td>1.609899</td>\n",
       "      <td>558.397820</td>\n",
       "      <td>151.972555</td>\n",
       "      <td>1964.777913</td>\n",
       "      <td>-37.809198</td>\n",
       "      <td>144.995207</td>\n",
       "      <td>7453.982031</td>\n",
       "    </tr>\n",
       "    <tr>\n",
       "      <th>std</th>\n",
       "      <td>0.955783</td>\n",
       "      <td>6.393334e+05</td>\n",
       "      <td>5.868838</td>\n",
       "      <td>90.679528</td>\n",
       "      <td>0.965956</td>\n",
       "      <td>0.691722</td>\n",
       "      <td>0.962450</td>\n",
       "      <td>3990.815622</td>\n",
       "      <td>541.052328</td>\n",
       "      <td>36.296864</td>\n",
       "      <td>0.079261</td>\n",
       "      <td>0.103914</td>\n",
       "      <td>4378.449080</td>\n",
       "    </tr>\n",
       "    <tr>\n",
       "      <th>min</th>\n",
       "      <td>1.000000</td>\n",
       "      <td>8.500000e+04</td>\n",
       "      <td>0.000000</td>\n",
       "      <td>3000.000000</td>\n",
       "      <td>0.000000</td>\n",
       "      <td>0.000000</td>\n",
       "      <td>0.000000</td>\n",
       "      <td>0.000000</td>\n",
       "      <td>0.000000</td>\n",
       "      <td>1830.000000</td>\n",
       "      <td>-38.182550</td>\n",
       "      <td>144.431810</td>\n",
       "      <td>249.000000</td>\n",
       "    </tr>\n",
       "    <tr>\n",
       "      <th>25%</th>\n",
       "      <td>2.000000</td>\n",
       "      <td>6.500000e+05</td>\n",
       "      <td>6.100000</td>\n",
       "      <td>3044.000000</td>\n",
       "      <td>2.000000</td>\n",
       "      <td>1.000000</td>\n",
       "      <td>1.000000</td>\n",
       "      <td>177.000000</td>\n",
       "      <td>93.000000</td>\n",
       "      <td>1940.000000</td>\n",
       "      <td>-37.856810</td>\n",
       "      <td>144.929600</td>\n",
       "      <td>4380.000000</td>\n",
       "    </tr>\n",
       "    <tr>\n",
       "      <th>50%</th>\n",
       "      <td>3.000000</td>\n",
       "      <td>9.030000e+05</td>\n",
       "      <td>9.200000</td>\n",
       "      <td>3084.000000</td>\n",
       "      <td>3.000000</td>\n",
       "      <td>1.000000</td>\n",
       "      <td>2.000000</td>\n",
       "      <td>440.000000</td>\n",
       "      <td>126.000000</td>\n",
       "      <td>1970.000000</td>\n",
       "      <td>-37.802350</td>\n",
       "      <td>145.000100</td>\n",
       "      <td>6543.000000</td>\n",
       "    </tr>\n",
       "    <tr>\n",
       "      <th>75%</th>\n",
       "      <td>3.000000</td>\n",
       "      <td>1.330000e+06</td>\n",
       "      <td>13.000000</td>\n",
       "      <td>3148.000000</td>\n",
       "      <td>3.000000</td>\n",
       "      <td>2.000000</td>\n",
       "      <td>2.000000</td>\n",
       "      <td>651.000000</td>\n",
       "      <td>174.000000</td>\n",
       "      <td>1999.000000</td>\n",
       "      <td>-37.756400</td>\n",
       "      <td>145.058250</td>\n",
       "      <td>10331.000000</td>\n",
       "    </tr>\n",
       "    <tr>\n",
       "      <th>max</th>\n",
       "      <td>10.000000</td>\n",
       "      <td>9.000000e+06</td>\n",
       "      <td>48.100000</td>\n",
       "      <td>3977.000000</td>\n",
       "      <td>20.000000</td>\n",
       "      <td>8.000000</td>\n",
       "      <td>10.000000</td>\n",
       "      <td>433014.000000</td>\n",
       "      <td>44515.000000</td>\n",
       "      <td>2018.000000</td>\n",
       "      <td>-37.408530</td>\n",
       "      <td>145.526350</td>\n",
       "      <td>21650.000000</td>\n",
       "    </tr>\n",
       "  </tbody>\n",
       "</table>\n",
       "</div>"
      ],
      "text/plain": [
       "              Rooms         Price      Distance      Postcode      Bedroom2  \\\n",
       "count  13579.000000  1.357900e+04  13579.000000  13579.000000  13579.000000   \n",
       "mean       2.937992  1.075675e+06     10.137477   3105.298697      2.914721   \n",
       "std        0.955783  6.393334e+05      5.868838     90.679528      0.965956   \n",
       "min        1.000000  8.500000e+04      0.000000   3000.000000      0.000000   \n",
       "25%        2.000000  6.500000e+05      6.100000   3044.000000      2.000000   \n",
       "50%        3.000000  9.030000e+05      9.200000   3084.000000      3.000000   \n",
       "75%        3.000000  1.330000e+06     13.000000   3148.000000      3.000000   \n",
       "max       10.000000  9.000000e+06     48.100000   3977.000000     20.000000   \n",
       "\n",
       "           Bathroom           Car       Landsize  BuildingArea    YearBuilt  \\\n",
       "count  13579.000000  13517.000000   13579.000000   7129.000000  8204.000000   \n",
       "mean       1.534281      1.609899     558.397820    151.972555  1964.777913   \n",
       "std        0.691722      0.962450    3990.815622    541.052328    36.296864   \n",
       "min        0.000000      0.000000       0.000000      0.000000  1830.000000   \n",
       "25%        1.000000      1.000000     177.000000     93.000000  1940.000000   \n",
       "50%        1.000000      2.000000     440.000000    126.000000  1970.000000   \n",
       "75%        2.000000      2.000000     651.000000    174.000000  1999.000000   \n",
       "max        8.000000     10.000000  433014.000000  44515.000000  2018.000000   \n",
       "\n",
       "          Lattitude    Longtitude  Propertycount  \n",
       "count  13579.000000  13579.000000   13579.000000  \n",
       "mean     -37.809198    144.995207    7453.982031  \n",
       "std        0.079261      0.103914    4378.449080  \n",
       "min      -38.182550    144.431810     249.000000  \n",
       "25%      -37.856810    144.929600    4380.000000  \n",
       "50%      -37.802350    145.000100    6543.000000  \n",
       "75%      -37.756400    145.058250   10331.000000  \n",
       "max      -37.408530    145.526350   21650.000000  "
      ]
     },
     "execution_count": 4,
     "metadata": {},
     "output_type": "execute_result"
    }
   ],
   "source": [
    "df.describe()"
   ]
  },
  {
   "cell_type": "code",
   "execution_count": 5,
   "id": "ef977c74-6786-4e9d-8154-a438973f5c1d",
   "metadata": {},
   "outputs": [
    {
     "name": "stdout",
     "output_type": "stream",
     "text": [
      "<class 'pandas.core.frame.DataFrame'>\n",
      "RangeIndex: 13579 entries, 0 to 13578\n",
      "Data columns (total 21 columns):\n",
      " #   Column         Non-Null Count  Dtype  \n",
      "---  ------         --------------  -----  \n",
      " 0   Suburb         13579 non-null  object \n",
      " 1   Address        13579 non-null  object \n",
      " 2   Rooms          13579 non-null  int64  \n",
      " 3   Type           13579 non-null  object \n",
      " 4   Price          13579 non-null  int64  \n",
      " 5   Method         13579 non-null  object \n",
      " 6   SellerG        13579 non-null  object \n",
      " 7   Date           13579 non-null  object \n",
      " 8   Distance       13579 non-null  float64\n",
      " 9   Postcode       13579 non-null  int64  \n",
      " 10  Bedroom2       13579 non-null  int64  \n",
      " 11  Bathroom       13579 non-null  int64  \n",
      " 12  Car            13517 non-null  float64\n",
      " 13  Landsize       13579 non-null  int64  \n",
      " 14  BuildingArea   7129 non-null   float64\n",
      " 15  YearBuilt      8204 non-null   float64\n",
      " 16  CouncilArea    12210 non-null  object \n",
      " 17  Lattitude      13579 non-null  float64\n",
      " 18  Longtitude     13579 non-null  float64\n",
      " 19  Regionname     13579 non-null  object \n",
      " 20  Propertycount  13579 non-null  int64  \n",
      "dtypes: float64(6), int64(7), object(8)\n",
      "memory usage: 2.2+ MB\n"
     ]
    }
   ],
   "source": [
    "df.info()"
   ]
  },
  {
   "cell_type": "code",
   "execution_count": 6,
   "id": "9229c44f-7e0a-48ef-ad1e-1dfd87a081c3",
   "metadata": {},
   "outputs": [
    {
     "data": {
      "text/plain": [
       "Suburb              0\n",
       "Address             0\n",
       "Rooms               0\n",
       "Type                0\n",
       "Price               0\n",
       "Method              0\n",
       "SellerG             0\n",
       "Date                0\n",
       "Distance            0\n",
       "Postcode            0\n",
       "Bedroom2            0\n",
       "Bathroom            0\n",
       "Car                62\n",
       "Landsize            0\n",
       "BuildingArea     6450\n",
       "YearBuilt        5375\n",
       "CouncilArea      1369\n",
       "Lattitude           0\n",
       "Longtitude          0\n",
       "Regionname          0\n",
       "Propertycount       0\n",
       "dtype: int64"
      ]
     },
     "execution_count": 6,
     "metadata": {},
     "output_type": "execute_result"
    }
   ],
   "source": [
    "df.isna().sum()"
   ]
  },
  {
   "cell_type": "markdown",
   "id": "271de304-2a51-4aa8-ad7e-11d9c27646da",
   "metadata": {},
   "source": [
    "### Drop nas"
   ]
  },
  {
   "cell_type": "code",
   "execution_count": 7,
   "id": "acf5d6a6-0aed-4faa-94b4-c3a3df0d3bbf",
   "metadata": {},
   "outputs": [
    {
     "data": {
      "text/html": [
       "<div>\n",
       "<style scoped>\n",
       "    .dataframe tbody tr th:only-of-type {\n",
       "        vertical-align: middle;\n",
       "    }\n",
       "\n",
       "    .dataframe tbody tr th {\n",
       "        vertical-align: top;\n",
       "    }\n",
       "\n",
       "    .dataframe thead th {\n",
       "        text-align: right;\n",
       "    }\n",
       "</style>\n",
       "<table border=\"1\" class=\"dataframe\">\n",
       "  <thead>\n",
       "    <tr style=\"text-align: right;\">\n",
       "      <th></th>\n",
       "      <th>Suburb</th>\n",
       "      <th>Address</th>\n",
       "      <th>Rooms</th>\n",
       "      <th>Type</th>\n",
       "      <th>Price</th>\n",
       "      <th>Method</th>\n",
       "      <th>SellerG</th>\n",
       "      <th>Date</th>\n",
       "      <th>Distance</th>\n",
       "      <th>Postcode</th>\n",
       "      <th>Bedroom2</th>\n",
       "      <th>Bathroom</th>\n",
       "      <th>Car</th>\n",
       "      <th>Landsize</th>\n",
       "      <th>BuildingArea</th>\n",
       "      <th>YearBuilt</th>\n",
       "      <th>CouncilArea</th>\n",
       "      <th>Lattitude</th>\n",
       "      <th>Longtitude</th>\n",
       "      <th>Regionname</th>\n",
       "      <th>Propertycount</th>\n",
       "    </tr>\n",
       "  </thead>\n",
       "  <tbody>\n",
       "    <tr>\n",
       "      <th>1</th>\n",
       "      <td>Abbotsford</td>\n",
       "      <td>25 Bloomburg St</td>\n",
       "      <td>2</td>\n",
       "      <td>h</td>\n",
       "      <td>1035000</td>\n",
       "      <td>S</td>\n",
       "      <td>Biggin</td>\n",
       "      <td>4/2/2016</td>\n",
       "      <td>2.5</td>\n",
       "      <td>3067</td>\n",
       "      <td>2</td>\n",
       "      <td>1</td>\n",
       "      <td>0.0</td>\n",
       "      <td>156</td>\n",
       "      <td>79.0</td>\n",
       "      <td>1900.0</td>\n",
       "      <td>Yarra</td>\n",
       "      <td>-37.8079</td>\n",
       "      <td>144.9934</td>\n",
       "      <td>Northern Metropolitan</td>\n",
       "      <td>4019</td>\n",
       "    </tr>\n",
       "    <tr>\n",
       "      <th>2</th>\n",
       "      <td>Abbotsford</td>\n",
       "      <td>5 Charles St</td>\n",
       "      <td>3</td>\n",
       "      <td>h</td>\n",
       "      <td>1465000</td>\n",
       "      <td>SP</td>\n",
       "      <td>Biggin</td>\n",
       "      <td>4/3/2017</td>\n",
       "      <td>2.5</td>\n",
       "      <td>3067</td>\n",
       "      <td>3</td>\n",
       "      <td>2</td>\n",
       "      <td>0.0</td>\n",
       "      <td>134</td>\n",
       "      <td>150.0</td>\n",
       "      <td>1900.0</td>\n",
       "      <td>Yarra</td>\n",
       "      <td>-37.8093</td>\n",
       "      <td>144.9944</td>\n",
       "      <td>Northern Metropolitan</td>\n",
       "      <td>4019</td>\n",
       "    </tr>\n",
       "    <tr>\n",
       "      <th>4</th>\n",
       "      <td>Abbotsford</td>\n",
       "      <td>55a Park St</td>\n",
       "      <td>4</td>\n",
       "      <td>h</td>\n",
       "      <td>1600000</td>\n",
       "      <td>VB</td>\n",
       "      <td>Nelson</td>\n",
       "      <td>4/6/2016</td>\n",
       "      <td>2.5</td>\n",
       "      <td>3067</td>\n",
       "      <td>3</td>\n",
       "      <td>1</td>\n",
       "      <td>2.0</td>\n",
       "      <td>120</td>\n",
       "      <td>142.0</td>\n",
       "      <td>2014.0</td>\n",
       "      <td>Yarra</td>\n",
       "      <td>-37.8072</td>\n",
       "      <td>144.9941</td>\n",
       "      <td>Northern Metropolitan</td>\n",
       "      <td>4019</td>\n",
       "    </tr>\n",
       "    <tr>\n",
       "      <th>6</th>\n",
       "      <td>Abbotsford</td>\n",
       "      <td>124 Yarra St</td>\n",
       "      <td>3</td>\n",
       "      <td>h</td>\n",
       "      <td>1876000</td>\n",
       "      <td>S</td>\n",
       "      <td>Nelson</td>\n",
       "      <td>7/5/2016</td>\n",
       "      <td>2.5</td>\n",
       "      <td>3067</td>\n",
       "      <td>4</td>\n",
       "      <td>2</td>\n",
       "      <td>0.0</td>\n",
       "      <td>245</td>\n",
       "      <td>210.0</td>\n",
       "      <td>1910.0</td>\n",
       "      <td>Yarra</td>\n",
       "      <td>-37.8024</td>\n",
       "      <td>144.9993</td>\n",
       "      <td>Northern Metropolitan</td>\n",
       "      <td>4019</td>\n",
       "    </tr>\n",
       "    <tr>\n",
       "      <th>7</th>\n",
       "      <td>Abbotsford</td>\n",
       "      <td>98 Charles St</td>\n",
       "      <td>2</td>\n",
       "      <td>h</td>\n",
       "      <td>1636000</td>\n",
       "      <td>S</td>\n",
       "      <td>Nelson</td>\n",
       "      <td>8/10/2016</td>\n",
       "      <td>2.5</td>\n",
       "      <td>3067</td>\n",
       "      <td>2</td>\n",
       "      <td>1</td>\n",
       "      <td>2.0</td>\n",
       "      <td>256</td>\n",
       "      <td>107.0</td>\n",
       "      <td>1890.0</td>\n",
       "      <td>Yarra</td>\n",
       "      <td>-37.8060</td>\n",
       "      <td>144.9954</td>\n",
       "      <td>Northern Metropolitan</td>\n",
       "      <td>4019</td>\n",
       "    </tr>\n",
       "  </tbody>\n",
       "</table>\n",
       "</div>"
      ],
      "text/plain": [
       "       Suburb          Address  Rooms Type    Price Method SellerG       Date  \\\n",
       "1  Abbotsford  25 Bloomburg St      2    h  1035000      S  Biggin   4/2/2016   \n",
       "2  Abbotsford     5 Charles St      3    h  1465000     SP  Biggin   4/3/2017   \n",
       "4  Abbotsford      55a Park St      4    h  1600000     VB  Nelson   4/6/2016   \n",
       "6  Abbotsford     124 Yarra St      3    h  1876000      S  Nelson   7/5/2016   \n",
       "7  Abbotsford    98 Charles St      2    h  1636000      S  Nelson  8/10/2016   \n",
       "\n",
       "   Distance  Postcode  Bedroom2  Bathroom  Car  Landsize  BuildingArea  \\\n",
       "1       2.5      3067         2         1  0.0       156          79.0   \n",
       "2       2.5      3067         3         2  0.0       134         150.0   \n",
       "4       2.5      3067         3         1  2.0       120         142.0   \n",
       "6       2.5      3067         4         2  0.0       245         210.0   \n",
       "7       2.5      3067         2         1  2.0       256         107.0   \n",
       "\n",
       "   YearBuilt CouncilArea  Lattitude  Longtitude             Regionname  \\\n",
       "1     1900.0       Yarra   -37.8079    144.9934  Northern Metropolitan   \n",
       "2     1900.0       Yarra   -37.8093    144.9944  Northern Metropolitan   \n",
       "4     2014.0       Yarra   -37.8072    144.9941  Northern Metropolitan   \n",
       "6     1910.0       Yarra   -37.8024    144.9993  Northern Metropolitan   \n",
       "7     1890.0       Yarra   -37.8060    144.9954  Northern Metropolitan   \n",
       "\n",
       "   Propertycount  \n",
       "1           4019  \n",
       "2           4019  \n",
       "4           4019  \n",
       "6           4019  \n",
       "7           4019  "
      ]
     },
     "execution_count": 7,
     "metadata": {},
     "output_type": "execute_result"
    }
   ],
   "source": [
    "df = df.dropna(subset=['BuildingArea', 'YearBuilt', 'CouncilArea', 'Car'], how='any')\n",
    "df.head()"
   ]
  },
  {
   "cell_type": "markdown",
   "id": "dec6715d-4610-45e7-bb06-2d6406267cf4",
   "metadata": {},
   "source": [
    "## Preprocessing"
   ]
  },
  {
   "cell_type": "markdown",
   "id": "35ffeb83-c96a-4571-bc6e-21b954176580",
   "metadata": {},
   "source": [
    "### Drop unique identifiers"
   ]
  },
  {
   "cell_type": "code",
   "execution_count": 8,
   "id": "d18ae8d6-3bb9-4cdc-baaa-d48e2557dcef",
   "metadata": {},
   "outputs": [
    {
     "data": {
      "text/html": [
       "<div>\n",
       "<style scoped>\n",
       "    .dataframe tbody tr th:only-of-type {\n",
       "        vertical-align: middle;\n",
       "    }\n",
       "\n",
       "    .dataframe tbody tr th {\n",
       "        vertical-align: top;\n",
       "    }\n",
       "\n",
       "    .dataframe thead th {\n",
       "        text-align: right;\n",
       "    }\n",
       "</style>\n",
       "<table border=\"1\" class=\"dataframe\">\n",
       "  <thead>\n",
       "    <tr style=\"text-align: right;\">\n",
       "      <th></th>\n",
       "      <th>Suburb</th>\n",
       "      <th>Rooms</th>\n",
       "      <th>Type</th>\n",
       "      <th>Price</th>\n",
       "      <th>Method</th>\n",
       "      <th>SellerG</th>\n",
       "      <th>Date</th>\n",
       "      <th>Distance</th>\n",
       "      <th>Postcode</th>\n",
       "      <th>Bedroom2</th>\n",
       "      <th>Bathroom</th>\n",
       "      <th>Car</th>\n",
       "      <th>Landsize</th>\n",
       "      <th>BuildingArea</th>\n",
       "      <th>YearBuilt</th>\n",
       "      <th>CouncilArea</th>\n",
       "      <th>Lattitude</th>\n",
       "      <th>Longtitude</th>\n",
       "      <th>Regionname</th>\n",
       "      <th>Propertycount</th>\n",
       "    </tr>\n",
       "  </thead>\n",
       "  <tbody>\n",
       "    <tr>\n",
       "      <th>1</th>\n",
       "      <td>Abbotsford</td>\n",
       "      <td>2</td>\n",
       "      <td>h</td>\n",
       "      <td>1035000</td>\n",
       "      <td>S</td>\n",
       "      <td>Biggin</td>\n",
       "      <td>4/2/2016</td>\n",
       "      <td>2.5</td>\n",
       "      <td>3067</td>\n",
       "      <td>2</td>\n",
       "      <td>1</td>\n",
       "      <td>0.0</td>\n",
       "      <td>156</td>\n",
       "      <td>79.0</td>\n",
       "      <td>1900.0</td>\n",
       "      <td>Yarra</td>\n",
       "      <td>-37.8079</td>\n",
       "      <td>144.9934</td>\n",
       "      <td>Northern Metropolitan</td>\n",
       "      <td>4019</td>\n",
       "    </tr>\n",
       "    <tr>\n",
       "      <th>2</th>\n",
       "      <td>Abbotsford</td>\n",
       "      <td>3</td>\n",
       "      <td>h</td>\n",
       "      <td>1465000</td>\n",
       "      <td>SP</td>\n",
       "      <td>Biggin</td>\n",
       "      <td>4/3/2017</td>\n",
       "      <td>2.5</td>\n",
       "      <td>3067</td>\n",
       "      <td>3</td>\n",
       "      <td>2</td>\n",
       "      <td>0.0</td>\n",
       "      <td>134</td>\n",
       "      <td>150.0</td>\n",
       "      <td>1900.0</td>\n",
       "      <td>Yarra</td>\n",
       "      <td>-37.8093</td>\n",
       "      <td>144.9944</td>\n",
       "      <td>Northern Metropolitan</td>\n",
       "      <td>4019</td>\n",
       "    </tr>\n",
       "    <tr>\n",
       "      <th>4</th>\n",
       "      <td>Abbotsford</td>\n",
       "      <td>4</td>\n",
       "      <td>h</td>\n",
       "      <td>1600000</td>\n",
       "      <td>VB</td>\n",
       "      <td>Nelson</td>\n",
       "      <td>4/6/2016</td>\n",
       "      <td>2.5</td>\n",
       "      <td>3067</td>\n",
       "      <td>3</td>\n",
       "      <td>1</td>\n",
       "      <td>2.0</td>\n",
       "      <td>120</td>\n",
       "      <td>142.0</td>\n",
       "      <td>2014.0</td>\n",
       "      <td>Yarra</td>\n",
       "      <td>-37.8072</td>\n",
       "      <td>144.9941</td>\n",
       "      <td>Northern Metropolitan</td>\n",
       "      <td>4019</td>\n",
       "    </tr>\n",
       "    <tr>\n",
       "      <th>6</th>\n",
       "      <td>Abbotsford</td>\n",
       "      <td>3</td>\n",
       "      <td>h</td>\n",
       "      <td>1876000</td>\n",
       "      <td>S</td>\n",
       "      <td>Nelson</td>\n",
       "      <td>7/5/2016</td>\n",
       "      <td>2.5</td>\n",
       "      <td>3067</td>\n",
       "      <td>4</td>\n",
       "      <td>2</td>\n",
       "      <td>0.0</td>\n",
       "      <td>245</td>\n",
       "      <td>210.0</td>\n",
       "      <td>1910.0</td>\n",
       "      <td>Yarra</td>\n",
       "      <td>-37.8024</td>\n",
       "      <td>144.9993</td>\n",
       "      <td>Northern Metropolitan</td>\n",
       "      <td>4019</td>\n",
       "    </tr>\n",
       "    <tr>\n",
       "      <th>7</th>\n",
       "      <td>Abbotsford</td>\n",
       "      <td>2</td>\n",
       "      <td>h</td>\n",
       "      <td>1636000</td>\n",
       "      <td>S</td>\n",
       "      <td>Nelson</td>\n",
       "      <td>8/10/2016</td>\n",
       "      <td>2.5</td>\n",
       "      <td>3067</td>\n",
       "      <td>2</td>\n",
       "      <td>1</td>\n",
       "      <td>2.0</td>\n",
       "      <td>256</td>\n",
       "      <td>107.0</td>\n",
       "      <td>1890.0</td>\n",
       "      <td>Yarra</td>\n",
       "      <td>-37.8060</td>\n",
       "      <td>144.9954</td>\n",
       "      <td>Northern Metropolitan</td>\n",
       "      <td>4019</td>\n",
       "    </tr>\n",
       "  </tbody>\n",
       "</table>\n",
       "</div>"
      ],
      "text/plain": [
       "       Suburb  Rooms Type    Price Method SellerG       Date  Distance  \\\n",
       "1  Abbotsford      2    h  1035000      S  Biggin   4/2/2016       2.5   \n",
       "2  Abbotsford      3    h  1465000     SP  Biggin   4/3/2017       2.5   \n",
       "4  Abbotsford      4    h  1600000     VB  Nelson   4/6/2016       2.5   \n",
       "6  Abbotsford      3    h  1876000      S  Nelson   7/5/2016       2.5   \n",
       "7  Abbotsford      2    h  1636000      S  Nelson  8/10/2016       2.5   \n",
       "\n",
       "   Postcode  Bedroom2  Bathroom  Car  Landsize  BuildingArea  YearBuilt  \\\n",
       "1      3067         2         1  0.0       156          79.0     1900.0   \n",
       "2      3067         3         2  0.0       134         150.0     1900.0   \n",
       "4      3067         3         1  2.0       120         142.0     2014.0   \n",
       "6      3067         4         2  0.0       245         210.0     1910.0   \n",
       "7      3067         2         1  2.0       256         107.0     1890.0   \n",
       "\n",
       "  CouncilArea  Lattitude  Longtitude             Regionname  Propertycount  \n",
       "1       Yarra   -37.8079    144.9934  Northern Metropolitan           4019  \n",
       "2       Yarra   -37.8093    144.9944  Northern Metropolitan           4019  \n",
       "4       Yarra   -37.8072    144.9941  Northern Metropolitan           4019  \n",
       "6       Yarra   -37.8024    144.9993  Northern Metropolitan           4019  \n",
       "7       Yarra   -37.8060    144.9954  Northern Metropolitan           4019  "
      ]
     },
     "execution_count": 8,
     "metadata": {},
     "output_type": "execute_result"
    }
   ],
   "source": [
    "df = df.drop(columns=['Address'])\n",
    "df.head()"
   ]
  },
  {
   "cell_type": "markdown",
   "id": "ccaf6b36-a857-4536-ab62-3715455bf16a",
   "metadata": {},
   "source": [
    "### Put dates in their own columns"
   ]
  },
  {
   "cell_type": "code",
   "execution_count": 9,
   "id": "284e625e-7989-467c-9067-242668ee9353",
   "metadata": {},
   "outputs": [],
   "source": [
    "df[['Day', 'Month', 'Year']] = df['Date'].str.split('/', expand=True)"
   ]
  },
  {
   "cell_type": "markdown",
   "id": "1926ffaf-3f97-49f5-9b53-8baff142e1e0",
   "metadata": {},
   "source": [
    "### Remove date column"
   ]
  },
  {
   "cell_type": "code",
   "execution_count": 10,
   "id": "07eb2a6f-5995-4f87-a420-6f1c5c09c4d0",
   "metadata": {},
   "outputs": [],
   "source": [
    "df = df.drop(columns=['Date'])"
   ]
  },
  {
   "cell_type": "markdown",
   "id": "87347a19-4fc0-4e43-9791-016e0f067c94",
   "metadata": {},
   "source": [
    "### Encode strings to integers"
   ]
  },
  {
   "cell_type": "code",
   "execution_count": 11,
   "id": "eaeae9cd-6967-4424-b375-5270b0e9f80a",
   "metadata": {},
   "outputs": [],
   "source": [
    "from sklearn.preprocessing import LabelEncoder\n",
    "le = LabelEncoder()\n",
    "\n",
    "for col in df.select_dtypes(include=[object]).columns:\n",
    "    le.fit(df[col])\n",
    "    df[col] = le.transform(df[col])"
   ]
  },
  {
   "cell_type": "code",
   "execution_count": 12,
   "id": "a61194d2-97ce-41a7-ad11-4e17a8e0ea57",
   "metadata": {},
   "outputs": [
    {
     "data": {
      "text/html": [
       "<div>\n",
       "<style scoped>\n",
       "    .dataframe tbody tr th:only-of-type {\n",
       "        vertical-align: middle;\n",
       "    }\n",
       "\n",
       "    .dataframe tbody tr th {\n",
       "        vertical-align: top;\n",
       "    }\n",
       "\n",
       "    .dataframe thead th {\n",
       "        text-align: right;\n",
       "    }\n",
       "</style>\n",
       "<table border=\"1\" class=\"dataframe\">\n",
       "  <thead>\n",
       "    <tr style=\"text-align: right;\">\n",
       "      <th></th>\n",
       "      <th>Suburb</th>\n",
       "      <th>Rooms</th>\n",
       "      <th>Type</th>\n",
       "      <th>Price</th>\n",
       "      <th>Method</th>\n",
       "      <th>SellerG</th>\n",
       "      <th>Distance</th>\n",
       "      <th>Postcode</th>\n",
       "      <th>Bedroom2</th>\n",
       "      <th>Bathroom</th>\n",
       "      <th>Car</th>\n",
       "      <th>Landsize</th>\n",
       "      <th>BuildingArea</th>\n",
       "      <th>YearBuilt</th>\n",
       "      <th>CouncilArea</th>\n",
       "      <th>Lattitude</th>\n",
       "      <th>Longtitude</th>\n",
       "      <th>Regionname</th>\n",
       "      <th>Propertycount</th>\n",
       "      <th>Day</th>\n",
       "      <th>Month</th>\n",
       "      <th>Year</th>\n",
       "    </tr>\n",
       "  </thead>\n",
       "  <tbody>\n",
       "    <tr>\n",
       "      <th>1</th>\n",
       "      <td>0</td>\n",
       "      <td>2</td>\n",
       "      <td>0</td>\n",
       "      <td>1035000</td>\n",
       "      <td>1</td>\n",
       "      <td>18</td>\n",
       "      <td>2.5</td>\n",
       "      <td>3067</td>\n",
       "      <td>2</td>\n",
       "      <td>1</td>\n",
       "      <td>0.0</td>\n",
       "      <td>156</td>\n",
       "      <td>79.0</td>\n",
       "      <td>1900.0</td>\n",
       "      <td>29</td>\n",
       "      <td>-37.8079</td>\n",
       "      <td>144.9934</td>\n",
       "      <td>2</td>\n",
       "      <td>4019</td>\n",
       "      <td>22</td>\n",
       "      <td>11</td>\n",
       "      <td>0</td>\n",
       "    </tr>\n",
       "    <tr>\n",
       "      <th>2</th>\n",
       "      <td>0</td>\n",
       "      <td>3</td>\n",
       "      <td>0</td>\n",
       "      <td>1465000</td>\n",
       "      <td>3</td>\n",
       "      <td>18</td>\n",
       "      <td>2.5</td>\n",
       "      <td>3067</td>\n",
       "      <td>3</td>\n",
       "      <td>2</td>\n",
       "      <td>0.0</td>\n",
       "      <td>134</td>\n",
       "      <td>150.0</td>\n",
       "      <td>1900.0</td>\n",
       "      <td>29</td>\n",
       "      <td>-37.8093</td>\n",
       "      <td>144.9944</td>\n",
       "      <td>2</td>\n",
       "      <td>4019</td>\n",
       "      <td>22</td>\n",
       "      <td>12</td>\n",
       "      <td>1</td>\n",
       "    </tr>\n",
       "    <tr>\n",
       "      <th>4</th>\n",
       "      <td>0</td>\n",
       "      <td>4</td>\n",
       "      <td>0</td>\n",
       "      <td>1600000</td>\n",
       "      <td>4</td>\n",
       "      <td>112</td>\n",
       "      <td>2.5</td>\n",
       "      <td>3067</td>\n",
       "      <td>3</td>\n",
       "      <td>1</td>\n",
       "      <td>2.0</td>\n",
       "      <td>120</td>\n",
       "      <td>142.0</td>\n",
       "      <td>2014.0</td>\n",
       "      <td>29</td>\n",
       "      <td>-37.8072</td>\n",
       "      <td>144.9941</td>\n",
       "      <td>2</td>\n",
       "      <td>4019</td>\n",
       "      <td>22</td>\n",
       "      <td>15</td>\n",
       "      <td>0</td>\n",
       "    </tr>\n",
       "    <tr>\n",
       "      <th>6</th>\n",
       "      <td>0</td>\n",
       "      <td>3</td>\n",
       "      <td>0</td>\n",
       "      <td>1876000</td>\n",
       "      <td>1</td>\n",
       "      <td>112</td>\n",
       "      <td>2.5</td>\n",
       "      <td>3067</td>\n",
       "      <td>4</td>\n",
       "      <td>2</td>\n",
       "      <td>0.0</td>\n",
       "      <td>245</td>\n",
       "      <td>210.0</td>\n",
       "      <td>1910.0</td>\n",
       "      <td>29</td>\n",
       "      <td>-37.8024</td>\n",
       "      <td>144.9993</td>\n",
       "      <td>2</td>\n",
       "      <td>4019</td>\n",
       "      <td>24</td>\n",
       "      <td>14</td>\n",
       "      <td>0</td>\n",
       "    </tr>\n",
       "    <tr>\n",
       "      <th>7</th>\n",
       "      <td>0</td>\n",
       "      <td>2</td>\n",
       "      <td>0</td>\n",
       "      <td>1636000</td>\n",
       "      <td>1</td>\n",
       "      <td>112</td>\n",
       "      <td>2.5</td>\n",
       "      <td>3067</td>\n",
       "      <td>2</td>\n",
       "      <td>1</td>\n",
       "      <td>2.0</td>\n",
       "      <td>256</td>\n",
       "      <td>107.0</td>\n",
       "      <td>1890.0</td>\n",
       "      <td>29</td>\n",
       "      <td>-37.8060</td>\n",
       "      <td>144.9954</td>\n",
       "      <td>2</td>\n",
       "      <td>4019</td>\n",
       "      <td>25</td>\n",
       "      <td>8</td>\n",
       "      <td>0</td>\n",
       "    </tr>\n",
       "  </tbody>\n",
       "</table>\n",
       "</div>"
      ],
      "text/plain": [
       "   Suburb  Rooms  Type    Price  Method  SellerG  Distance  Postcode  \\\n",
       "1       0      2     0  1035000       1       18       2.5      3067   \n",
       "2       0      3     0  1465000       3       18       2.5      3067   \n",
       "4       0      4     0  1600000       4      112       2.5      3067   \n",
       "6       0      3     0  1876000       1      112       2.5      3067   \n",
       "7       0      2     0  1636000       1      112       2.5      3067   \n",
       "\n",
       "   Bedroom2  Bathroom  Car  Landsize  BuildingArea  YearBuilt  CouncilArea  \\\n",
       "1         2         1  0.0       156          79.0     1900.0           29   \n",
       "2         3         2  0.0       134         150.0     1900.0           29   \n",
       "4         3         1  2.0       120         142.0     2014.0           29   \n",
       "6         4         2  0.0       245         210.0     1910.0           29   \n",
       "7         2         1  2.0       256         107.0     1890.0           29   \n",
       "\n",
       "   Lattitude  Longtitude  Regionname  Propertycount  Day  Month  Year  \n",
       "1   -37.8079    144.9934           2           4019   22     11     0  \n",
       "2   -37.8093    144.9944           2           4019   22     12     1  \n",
       "4   -37.8072    144.9941           2           4019   22     15     0  \n",
       "6   -37.8024    144.9993           2           4019   24     14     0  \n",
       "7   -37.8060    144.9954           2           4019   25      8     0  "
      ]
     },
     "execution_count": 12,
     "metadata": {},
     "output_type": "execute_result"
    }
   ],
   "source": [
    "df.head()"
   ]
  },
  {
   "cell_type": "code",
   "execution_count": 13,
   "id": "d5b73938-8aa8-4aa3-b349-2efccb2c6b16",
   "metadata": {},
   "outputs": [
    {
     "name": "stdout",
     "output_type": "stream",
     "text": [
      "<class 'pandas.core.frame.DataFrame'>\n",
      "Int64Index: 6195 entries, 1 to 12211\n",
      "Data columns (total 22 columns):\n",
      " #   Column         Non-Null Count  Dtype  \n",
      "---  ------         --------------  -----  \n",
      " 0   Suburb         6195 non-null   int32  \n",
      " 1   Rooms          6195 non-null   int64  \n",
      " 2   Type           6195 non-null   int32  \n",
      " 3   Price          6195 non-null   int64  \n",
      " 4   Method         6195 non-null   int32  \n",
      " 5   SellerG        6195 non-null   int32  \n",
      " 6   Distance       6195 non-null   float64\n",
      " 7   Postcode       6195 non-null   int64  \n",
      " 8   Bedroom2       6195 non-null   int64  \n",
      " 9   Bathroom       6195 non-null   int64  \n",
      " 10  Car            6195 non-null   float64\n",
      " 11  Landsize       6195 non-null   int64  \n",
      " 12  BuildingArea   6195 non-null   float64\n",
      " 13  YearBuilt      6195 non-null   float64\n",
      " 14  CouncilArea    6195 non-null   int32  \n",
      " 15  Lattitude      6195 non-null   float64\n",
      " 16  Longtitude     6195 non-null   float64\n",
      " 17  Regionname     6195 non-null   int32  \n",
      " 18  Propertycount  6195 non-null   int64  \n",
      " 19  Day            6195 non-null   int32  \n",
      " 20  Month          6195 non-null   int32  \n",
      " 21  Year           6195 non-null   int32  \n",
      "dtypes: float64(6), int32(9), int64(7)\n",
      "memory usage: 895.4 KB\n"
     ]
    }
   ],
   "source": [
    "df.info()"
   ]
  },
  {
   "cell_type": "markdown",
   "id": "09e1d8c7-d3a3-4bfb-875d-71f34220abbf",
   "metadata": {},
   "source": [
    "**Everything is a number now**"
   ]
  },
  {
   "cell_type": "markdown",
   "id": "b50988c1-2a4b-4a60-bd76-aeb05fbf957d",
   "metadata": {},
   "source": [
    "## Split data into test and train data"
   ]
  },
  {
   "cell_type": "code",
   "execution_count": 14,
   "id": "e6551103-ed63-4dd0-8956-728e052d4f4e",
   "metadata": {},
   "outputs": [],
   "source": [
    "X = df.drop('Price', axis=1)\n",
    "y = df['Price']\n",
    "\n",
    "from sklearn.model_selection import train_test_split\n",
    "X_train, X_test, y_train, y_test = train_test_split(X, y, test_size=.3, random_state=1)"
   ]
  },
  {
   "cell_type": "markdown",
   "id": "58cfe996-9d3b-42ba-8f78-e84712c29022",
   "metadata": {},
   "source": [
    "## Create Basic Linear Regression Model"
   ]
  },
  {
   "cell_type": "code",
   "execution_count": 15,
   "id": "bee7572e-5998-495e-b769-d2af30361910",
   "metadata": {},
   "outputs": [],
   "source": [
    "from sklearn.linear_model import LinearRegression\n",
    "lr = LinearRegression()\n",
    "lr.fit(X_train, y_train)\n",
    "\n",
    "# predict\n",
    "predicted = lr.predict(X_test)"
   ]
  },
  {
   "cell_type": "markdown",
   "id": "411f7b17-391c-4424-bee1-6357df029a10",
   "metadata": {},
   "source": [
    "## Evaluate model"
   ]
  },
  {
   "cell_type": "code",
   "execution_count": 16,
   "id": "fcecd584-aa49-4173-8529-29f24646c32e",
   "metadata": {},
   "outputs": [
    {
     "name": "stdout",
     "output_type": "stream",
     "text": [
      "R-Squared Score:  0.6015382891658352\n",
      "Mean Squared Error:  189590169035.5514\n",
      "Mean Absolute Error:  260208.8012485054\n"
     ]
    }
   ],
   "source": [
    "from sklearn.metrics import mean_absolute_error, mean_squared_error, r2_score\n",
    "\n",
    "print(\"R-Squared Score: \", r2_score(y_test, predicted))\n",
    "print(\"Mean Squared Error: \", mean_squared_error(y_test, predicted))\n",
    "print(\"Mean Absolute Error: \", mean_absolute_error(y_test, predicted))"
   ]
  },
  {
   "cell_type": "markdown",
   "id": "b0fb403d-1737-413d-921d-0b7ef83a1551",
   "metadata": {},
   "source": [
    "What is this saying above? The R-Squared score gives a basic idea of how well the model performed overall. It was able to explain 59% of variance in the data. That means that the model may have been really close to getting it right sometimes, and really far off other times. So cancelling out its wins and losses, it got a score of about 59%.\n",
    "\n",
    "As far as I can tell, the Mean Squared Error is a number that by itself doesn't mean much without context. The number is super high because we are looking at housing prices which are in the thousands or millions of dollars in value. That means that if we were off the prediction by $1000 (which isn't actually very much), we then *square* it to get an error value of 1,000,000. So imagine if we were actually off by 1,000,000. Then we would have to square that number to get the square error value, 1,000,000,000,000. That metric should be compared to the Mean Absolute Error. If MSE is really different from the MAE (which is clearly is), then that means that there are some really extreme values that the model isn't predicting very well.\n",
    "\n",
    "The Mean Absolute Error is taking the difference between what we predicted and the actual value and then adding it all together. So if we predicted 384,000 and it was actually 385,000, then we add 1000 to the error score. The difference between this score and the previous one is that the values aren't square here. Thus, the extreme values aren't emphasized as much.\n",
    "\n",
    "What do we do with this information? We should now try to tune our model to make it better and see if we can improve these scores (increase R-Squared and decrease MAE and MSE)."
   ]
  },
  {
   "cell_type": "markdown",
   "id": "fb3f55b5-476e-4d2a-9b72-70dc28e3b423",
   "metadata": {},
   "source": [
    "## Polynomial Regression\n",
    "### 2nd degree"
   ]
  },
  {
   "cell_type": "code",
   "execution_count": 32,
   "id": "b41b3517-ac5a-42a9-885e-2409898735fa",
   "metadata": {},
   "outputs": [],
   "source": [
    "from sklearn.preprocessing import PolynomialFeatures\n",
    "poly = PolynomialFeatures(2, include_bias=False) # I found out that include_bias=False means that we'll use these features in the linear regression later\n",
    "poly_features_2 = poly.fit_transform(X_train)\n",
    "\n",
    "# Start making the linear regression model again\n",
    "lr_2 = LinearRegression()\n",
    "lr_2.fit(poly_features_2, y_train) # poly_features is just a polynomial version of X_train\n",
    "predicted_2 = lr_2.predict(poly_features_2)"
   ]
  },
  {
   "cell_type": "code",
   "execution_count": 18,
   "id": "250fbc5f-fadc-4282-ba3a-5f939d8e7c14",
   "metadata": {},
   "outputs": [
    {
     "name": "stdout",
     "output_type": "stream",
     "text": [
      "R-Squared Score:  0.8216818475325868\n",
      "Mean Squared Error:  79754462956.60902\n",
      "Mean Absolute Error:  184187.71579322955\n"
     ]
    }
   ],
   "source": [
    "print(\"R-Squared Score: \", r2_score(y_train, predicted_2))\n",
    "print(\"Mean Squared Error: \", mean_squared_error(y_train, predicted_2))\n",
    "print(\"Mean Absolute Error: \", mean_absolute_error(y_train, predicted_2))"
   ]
  },
  {
   "cell_type": "markdown",
   "id": "9200eb30-40ed-4377-83e5-0928395fcbfe",
   "metadata": {},
   "source": [
    "So it looks like the 2nd-degree polynomial model does perform a little better than the first linear model. The R-Squared score is 82% instead of 59%, the MSE is 79,176,160,176 instead of 190,230,548,100, and the MAE is 184,630 instead of 259,864.\n",
    "\n",
    "I'm also going to try a 3rd-degree polynomial."
   ]
  },
  {
   "cell_type": "markdown",
   "id": "f68cd944-43e7-4ebc-8d8e-7015d3ced5dd",
   "metadata": {},
   "source": [
    "### 3rd degree"
   ]
  },
  {
   "cell_type": "code",
   "execution_count": 19,
   "id": "d8732dca-8346-4f0c-be94-6402e857848f",
   "metadata": {},
   "outputs": [
    {
     "name": "stdout",
     "output_type": "stream",
     "text": [
      "R-Squared Score:  0.9040947485909484\n",
      "Mean Squared Error:  42894521477.53311\n",
      "Mean Absolute Error:  158181.59443803292\n"
     ]
    }
   ],
   "source": [
    "poly = PolynomialFeatures(3, include_bias=False)\n",
    "poly_features_3 = poly.fit_transform(X_train)\n",
    "\n",
    "lr_3 = LinearRegression()\n",
    "lr_3.fit(poly_features_3, y_train) \n",
    "predicted_3 = lr_3.predict(poly_features_3)\n",
    "\n",
    "print(\"R-Squared Score: \", r2_score(y_train, predicted_3))\n",
    "print(\"Mean Squared Error: \", mean_squared_error(y_train, predicted_3))\n",
    "print(\"Mean Absolute Error: \", mean_absolute_error(y_train, predicted_3))"
   ]
  },
  {
   "cell_type": "markdown",
   "id": "1bccf7a0-4ccf-45f7-a8a1-416dce9b5c39",
   "metadata": {},
   "source": [
    "Now the R-Squared score is 90% instead of 82%, the MSE is 42,894,521,477 instead of 79,176,160,176, and the MAE is 158,181 instead of 184,630. It might be a little different when you run it. This might be telling us that the model is adapting more."
   ]
  },
  {
   "cell_type": "markdown",
   "id": "842a87b5-a5fc-4fe2-b4e7-f7fb2f5a3d8b",
   "metadata": {},
   "source": [
    "We'll throw in a fourth degree model just for kicks."
   ]
  },
  {
   "cell_type": "code",
   "execution_count": 28,
   "id": "26ffd804-e71d-4ca2-9613-2ef0e37efbda",
   "metadata": {},
   "outputs": [
    {
     "name": "stdout",
     "output_type": "stream",
     "text": [
      "R-Squared Score:  0.9999855952024167\n",
      "Mean Squared Error:  6442680.564811138\n",
      "Mean Absolute Error:  1785.8853659273514\n"
     ]
    }
   ],
   "source": [
    "poly = PolynomialFeatures(4, include_bias=False)\n",
    "poly_features_4 = poly.fit_transform(X_train)\n",
    "\n",
    "lr_4 = LinearRegression()\n",
    "lr_4.fit(poly_features_4, y_train) \n",
    "predicted_4 = lr_4.predict(poly_features_4)\n",
    "\n",
    "print(\"R-Squared Score: \", r2_score(y_train, predicted_4))\n",
    "print(\"Mean Squared Error: \", mean_squared_error(y_train, predicted_4))\n",
    "print(\"Mean Absolute Error: \", mean_absolute_error(y_train, predicted_4))"
   ]
  },
  {
   "cell_type": "markdown",
   "id": "ffa7b906-e37c-4314-829b-7b242d403e60",
   "metadata": {},
   "source": [
    "This one actually surprised me. This has an extremely high R-Squared value (99%), a low Mean Squared Error (6,442,680 compared to 424,894,521,477) and a low Mean Absolute Error (1785 compared to 158,181). That probably means that this model is performing well, but it is probably also be overfitting. That's something I would need to do more research on how to calculate that and visualize it."
   ]
  },
  {
   "cell_type": "markdown",
   "id": "48884b7a-9b24-42e2-bf6c-98ba45dd568c",
   "metadata": {
    "tags": []
   },
   "source": [
    "### Permutation Importance\n",
    "We have many variables in the data set, but we can only graph two dimensions in a scatter plot. Because of this, we will use sklearn to figure out which variable is the most important so that we can plot it against `Price`.\n",
    "\n",
    "Note that because we are using many variables, we won't be able to see all of the errors in the graph. If only we had the ability to see in multiple dimensions..."
   ]
  },
  {
   "cell_type": "code",
   "execution_count": 21,
   "id": "936614c6-7576-4052-9ae3-8ddb6796d48e",
   "metadata": {},
   "outputs": [
    {
     "name": "stdout",
     "output_type": "stream",
     "text": [
      "SellerG importance: \t 0.28764832893523146\n",
      "Bedroom2 importance: \t 0.09800466786312934\n",
      "Type importance: \t 0.07919012438022617\n",
      "Landsize importance: \t 0.070715641495726\n",
      "Rooms importance: \t 0.06528187644634187\n",
      "BuildingArea importance: \t 0.05872050963472901\n",
      "Lattitude importance: \t 0.05121552875399475\n",
      "Distance importance: \t 0.026747568276642465\n",
      "CouncilArea importance: \t 0.020368727693720112\n",
      "Bathroom importance: \t 0.012560091663787066\n",
      "Longtitude importance: \t 0.010622405329261286\n",
      "YearBuilt importance: \t 0.0071163425919216206\n",
      "Month importance: \t 0.0033512215749247343\n",
      "Suburb importance: \t 0.003152739484320022\n",
      "Car importance: \t 0.0026294522142042086\n",
      "Day importance: \t 0.001176197514106736\n",
      "Method importance: \t 0.0005226292771816965\n",
      "Propertycount importance: \t 0.00022900717088043533\n",
      "Price importance: \t 0.00015022250898986123\n",
      "Regionname importance: \t 2.4634250139765612e-06\n",
      "Postcode importance: \t -1.905840003586512e-05\n"
     ]
    }
   ],
   "source": [
    "from sklearn.inspection import permutation_importance\n",
    "features = permutation_importance(lr, X_test, y_test)\n",
    "for i in features.importances_mean.argsort()[::-1]: # I got this code online btw https://scikit-learn.org/stable/modules/permutation_importance.html\n",
    "    print(df.columns[i], \"importance: \\t\",features.importances_mean[i])"
   ]
  },
  {
   "cell_type": "markdown",
   "id": "aef61a18-311e-4fab-a4f2-d06a453f07df",
   "metadata": {},
   "source": [
    "It looks like `SellerG` might be the variable with the highest impact on Price"
   ]
  },
  {
   "cell_type": "code",
   "execution_count": 22,
   "id": "f6231ae5-f978-421c-bce9-36bf4b4d570b",
   "metadata": {
    "tags": []
   },
   "outputs": [
    {
     "data": {
      "image/png": "[encoded data removed]",
      "text/plain": [
       "<Figure size 576x360 with 1 Axes>"
      ]
     },
     "metadata": {
      "needs_background": "light"
     },
     "output_type": "display_data"
    }
   ],
   "source": [
    "# This code copies the X_test dataframe and then adds the predictions on as another column `Price`. It's for sorting, for the plots.\n",
    "df_test = X_test.copy()\n",
    "df_test['Price'] = predicted\n",
    "df_test = df_test.sort_values(by='SellerG')\n",
    "\n",
    "plt.figure(figsize=(8, 5))\n",
    "plt.title(\"1st Degree Linear Regression\")\n",
    "plt.ylabel('Price')\n",
    "plt.xlabel('SellerG')\n",
    "plt.scatter(df['SellerG'], df['Price'])\n",
    "plt.plot(df_test['SellerG'], df_test['Price'], alpha=.9, color='red', label='Regression Line')\n",
    "\n",
    "\n",
    "plt.legend()\n",
    "plt.show()"
   ]
  },
  {
   "cell_type": "markdown",
   "id": "d346f97f-7b7d-41ef-a9b9-b645c1d2394b",
   "metadata": {},
   "source": [
    "Yep. That's the regression line. Looks kind of messy.\n",
    "\n",
    "The line pretty much goes back and forth between points and just makes a mess in the visualization because `SellerG` isn't the only variable affecting the `Price`. That and you can't also say that \"as the SellerG goes up, so does the price\" or anything like that. In reality, to make this better, we might need to remove the `SellerG` variable or use a different variable (continuous) to visualize."
   ]
  },
  {
   "cell_type": "code",
   "execution_count": 23,
   "id": "089014fd-2a28-402a-81e0-1ebfff95db38",
   "metadata": {},
   "outputs": [
    {
     "data": {
      "image/png": "[encoded data removed]",
      "text/plain": [
       "<Figure size 576x360 with 1 Axes>"
      ]
     },
     "metadata": {
      "needs_background": "light"
     },
     "output_type": "display_data"
    }
   ],
   "source": [
    "df_test = df_test.sort_values(by='YearBuilt')\n",
    "\n",
    "plt.figure(figsize=(8, 5))\n",
    "plt.title(\"1st Degree Linear Regression\")\n",
    "plt.ylabel('Price')\n",
    "plt.xlabel('YearBuilt')\n",
    "plt.scatter(df['YearBuilt'], df['Price'])\n",
    "plt.plot(df_test['YearBuilt'], df_test['Price'], alpha=.8, color='red', label='Regression Line')\n",
    "\n",
    "\n",
    "plt.legend()\n",
    "plt.show()"
   ]
  },
  {
   "cell_type": "code",
   "execution_count": 24,
   "id": "4a594f7f-ddf7-4b5c-a733-73d1b40a2c2a",
   "metadata": {},
   "outputs": [
    {
     "data": {
      "image/png": "[encoded data removed]",
      "text/plain": [
       "<Figure size 576x360 with 1 Axes>"
      ]
     },
     "metadata": {
      "needs_background": "light"
     },
     "output_type": "display_data"
    }
   ],
   "source": [
    "df_test = df_test.sort_values(by='BuildingArea')\n",
    "\n",
    "plt.figure(figsize=(8, 5))\n",
    "plt.title(\"1st Degree Linear Regression\")\n",
    "plt.ylabel('Price')\n",
    "plt.xlabel('BuildingArea')\n",
    "plt.scatter(df['BuildingArea'], df['Price'])\n",
    "plt.plot(df_test['BuildingArea'], df_test['Price'], alpha=.8, color='red', label='Regression Line')\n",
    "\n",
    "\n",
    "plt.legend()\n",
    "plt.show()"
   ]
  },
  {
   "cell_type": "markdown",
   "id": "7e74cfcd-d2b9-4915-8357-7430768d436d",
   "metadata": {},
   "source": [
    "Now let's plot the 2nd and 3rd-degree regression models. I'll just do `YearBuilt` for them."
   ]
  },
  {
   "cell_type": "markdown",
   "id": "d7230eff-9df3-4790-8def-49633029eadd",
   "metadata": {},
   "source": [
    "### 2nd degree"
   ]
  },
  {
   "cell_type": "code",
   "execution_count": 25,
   "id": "7d1a6f19-60dd-4e94-af81-3a32a56cff54",
   "metadata": {},
   "outputs": [
    {
     "data": {
      "image/png": "[encoded data removed]",
      "text/plain": [
       "<Figure size 576x360 with 1 Axes>"
      ]
     },
     "metadata": {
      "needs_background": "light"
     },
     "output_type": "display_data"
    }
   ],
   "source": [
    "df_train = X_train.copy()\n",
    "df_train['Price'] = predicted_2\n",
    "df_train = df_train.sort_values(by='YearBuilt')\n",
    "\n",
    "plt.figure(figsize=(8, 5))\n",
    "plt.title(\"2nd Degree Linear Regression\")\n",
    "plt.ylabel('Price')\n",
    "plt.xlabel('YearBuilt')\n",
    "plt.scatter(df['YearBuilt'], df['Price'])\n",
    "plt.plot(df_train['YearBuilt'], df_train['Price'], alpha=.8, color='red', label='Regression Line')\n",
    "\n",
    "plt.legend()\n",
    "plt.show()"
   ]
  },
  {
   "cell_type": "markdown",
   "id": "b1eb88b7-3895-4956-b753-86f272f026cf",
   "metadata": {},
   "source": [
    "### 3rd degree"
   ]
  },
  {
   "cell_type": "code",
   "execution_count": 26,
   "id": "04b05620-368b-49dd-bbd7-7033e8a6c868",
   "metadata": {},
   "outputs": [
    {
     "data": {
      "image/png": "[encoded data removed]",
      "text/plain": [
       "<Figure size 576x360 with 1 Axes>"
      ]
     },
     "metadata": {
      "needs_background": "light"
     },
     "output_type": "display_data"
    }
   ],
   "source": [
    "df_train = X_train.copy()\n",
    "df_train['Price'] = predicted_3\n",
    "df_train = df_train.sort_values(by='YearBuilt')\n",
    "\n",
    "plt.figure(figsize=(8, 5))\n",
    "plt.title(\"3rd Degree Linear Regression\")\n",
    "plt.ylabel('Price')\n",
    "plt.xlabel('YearBuilt')\n",
    "plt.scatter(df['YearBuilt'], df['Price'])\n",
    "plt.plot(df_train['YearBuilt'], df_train['Price'], alpha=.8, color='red', label='Regression Line')\n",
    "\n",
    "plt.legend()\n",
    "plt.show()"
   ]
  },
  {
   "cell_type": "markdown",
   "id": "210921a9-c7db-4fa7-87b0-01d2f4790e33",
   "metadata": {},
   "source": [
    "### 4th degree"
   ]
  },
  {
   "cell_type": "code",
   "execution_count": 27,
   "id": "7cfe6016-7593-4aea-b471-7eaf7b411865",
   "metadata": {},
   "outputs": [
    {
     "data": {
      "image/png": "[encoded data removed]",
      "text/plain": [
       "<Figure size 576x360 with 1 Axes>"
      ]
     },
     "metadata": {
      "needs_background": "light"
     },
     "output_type": "display_data"
    }
   ],
   "source": [
    "df_train = X_train.copy()\n",
    "df_train['Price'] = predicted_4\n",
    "df_train = df_train.sort_values(by='YearBuilt')\n",
    "\n",
    "plt.figure(figsize=(8, 5))\n",
    "plt.title(\"4th Degree Linear Regression\")\n",
    "plt.ylabel('Price')\n",
    "plt.xlabel('YearBuilt')\n",
    "plt.scatter(df['YearBuilt'], df['Price'])\n",
    "plt.plot(df_train['YearBuilt'], df_train['Price'], alpha=.8, color='red', label='Regression Line')\n",
    "\n",
    "plt.legend()\n",
    "plt.show()"
   ]
  }
 ],
 "metadata": {
  "kernelspec": {
   "display_name": "Python 3 (ipykernel)",
   "language": "python",
   "name": "python3"
  },
  "language_info": {
   "codemirror_mode": {
    "name": "ipython",
    "version": 3
   },
   "file_extension": ".py",
   "mimetype": "text/x-python",
   "name": "python",
   "nbconvert_exporter": "python",
   "pygments_lexer": "ipython3",
   "version": "3.10.6"
  }
 },
 "nbformat": 4,
 "nbformat_minor": 5
}
